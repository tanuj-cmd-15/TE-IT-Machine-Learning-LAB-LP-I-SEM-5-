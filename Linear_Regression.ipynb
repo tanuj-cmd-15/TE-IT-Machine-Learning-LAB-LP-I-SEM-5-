{
 "cells": [
  {
   "cell_type": "markdown",
   "id": "baf1c5cb",
   "metadata": {},
   "source": [
    "## PROBLEM STATEMENT:\n",
    "Download temperature data from below link.\n",
    "https://www.kaggle.com/venky73/temperatures\u0002of-india?select=temperatures.cs"
   ]
  },
  {
   "cell_type": "markdown",
   "id": "0a922202",
   "metadata": {},
   "source": [
    "#### This data consists of temperatures of INDIA averaging the temperatures of all places month wise. \n",
    "Temperatures values are recorded in CELSIUS\n",
    "\n",
    "a. Apply Linear Regression using suitable library function and predict the Month-wise temperature.\n",
    "\n",
    "b. Assessthe performance of regression models using MSE, MAE and R-Square metrics\n",
    "\n",
    "c. Visualize simple regression model."
   ]
  },
  {
   "cell_type": "markdown",
   "id": "0fa881ef",
   "metadata": {},
   "source": [
    "### Executions:"
   ]
  },
  {
   "cell_type": "markdown",
   "id": "a3b8bbee",
   "metadata": {},
   "source": [
    "### 1)Importing the library"
   ]
  },
  {
   "cell_type": "code",
   "execution_count": 1,
   "id": "2a77da3b",
   "metadata": {},
   "outputs": [],
   "source": [
    "import pandas as pd\n",
    "import numpy as np\n",
    "import seaborn as sb"
   ]
  },
  {
   "cell_type": "markdown",
   "id": "35f9a5d6",
   "metadata": {},
   "source": [
    "### 2)read the csv file "
   ]
  },
  {
   "cell_type": "code",
   "execution_count": 2,
   "id": "c9b61948",
   "metadata": {},
   "outputs": [],
   "source": [
    "data=pd.read_csv('C:\\\\Users\\\\desktop\\\\Downloads\\\\temperatures.csv')"
   ]
  },
  {
   "cell_type": "markdown",
   "id": "9f3e6fd5",
   "metadata": {},
   "source": [
    "### 3) Find shape of Data"
   ]
  },
  {
   "cell_type": "code",
   "execution_count": 3,
   "id": "3a9e8554",
   "metadata": {},
   "outputs": [
    {
     "data": {
      "text/plain": [
       "(117, 18)"
      ]
     },
     "execution_count": 3,
     "metadata": {},
     "output_type": "execute_result"
    }
   ],
   "source": [
    "data.shape"
   ]
  },
  {
   "cell_type": "markdown",
   "id": "048961f6",
   "metadata": {},
   "source": [
    "### 4)summary of Dataset"
   ]
  },
  {
   "cell_type": "code",
   "execution_count": 4,
   "id": "a3198749",
   "metadata": {},
   "outputs": [
    {
     "data": {
      "text/html": [
       "<div>\n",
       "<style scoped>\n",
       "    .dataframe tbody tr th:only-of-type {\n",
       "        vertical-align: middle;\n",
       "    }\n",
       "\n",
       "    .dataframe tbody tr th {\n",
       "        vertical-align: top;\n",
       "    }\n",
       "\n",
       "    .dataframe thead th {\n",
       "        text-align: right;\n",
       "    }\n",
       "</style>\n",
       "<table border=\"1\" class=\"dataframe\">\n",
       "  <thead>\n",
       "    <tr style=\"text-align: right;\">\n",
       "      <th></th>\n",
       "      <th>YEAR</th>\n",
       "      <th>JAN</th>\n",
       "      <th>FEB</th>\n",
       "      <th>MAR</th>\n",
       "      <th>APR</th>\n",
       "      <th>MAY</th>\n",
       "      <th>JUN</th>\n",
       "      <th>JUL</th>\n",
       "      <th>AUG</th>\n",
       "      <th>SEP</th>\n",
       "      <th>OCT</th>\n",
       "      <th>NOV</th>\n",
       "      <th>DEC</th>\n",
       "      <th>ANNUAL</th>\n",
       "      <th>JAN-FEB</th>\n",
       "      <th>MAR-MAY</th>\n",
       "      <th>JUN-SEP</th>\n",
       "      <th>OCT-DEC</th>\n",
       "    </tr>\n",
       "  </thead>\n",
       "  <tbody>\n",
       "    <tr>\n",
       "      <th>count</th>\n",
       "      <td>117.000000</td>\n",
       "      <td>117.000000</td>\n",
       "      <td>117.000000</td>\n",
       "      <td>117.000000</td>\n",
       "      <td>117.000000</td>\n",
       "      <td>117.000000</td>\n",
       "      <td>117.000000</td>\n",
       "      <td>117.000000</td>\n",
       "      <td>117.000000</td>\n",
       "      <td>117.000000</td>\n",
       "      <td>117.000000</td>\n",
       "      <td>117.000000</td>\n",
       "      <td>117.000000</td>\n",
       "      <td>117.000000</td>\n",
       "      <td>117.000000</td>\n",
       "      <td>117.000000</td>\n",
       "      <td>117.000000</td>\n",
       "      <td>117.000000</td>\n",
       "    </tr>\n",
       "    <tr>\n",
       "      <th>mean</th>\n",
       "      <td>1959.000000</td>\n",
       "      <td>23.687436</td>\n",
       "      <td>25.597863</td>\n",
       "      <td>29.085983</td>\n",
       "      <td>31.975812</td>\n",
       "      <td>33.565299</td>\n",
       "      <td>32.774274</td>\n",
       "      <td>31.035897</td>\n",
       "      <td>30.507692</td>\n",
       "      <td>30.486752</td>\n",
       "      <td>29.766581</td>\n",
       "      <td>27.285470</td>\n",
       "      <td>24.608291</td>\n",
       "      <td>29.181368</td>\n",
       "      <td>24.629573</td>\n",
       "      <td>31.517607</td>\n",
       "      <td>31.198205</td>\n",
       "      <td>27.208120</td>\n",
       "    </tr>\n",
       "    <tr>\n",
       "      <th>std</th>\n",
       "      <td>33.919021</td>\n",
       "      <td>0.834588</td>\n",
       "      <td>1.150757</td>\n",
       "      <td>1.068451</td>\n",
       "      <td>0.889478</td>\n",
       "      <td>0.724905</td>\n",
       "      <td>0.633132</td>\n",
       "      <td>0.468818</td>\n",
       "      <td>0.476312</td>\n",
       "      <td>0.544295</td>\n",
       "      <td>0.705492</td>\n",
       "      <td>0.714518</td>\n",
       "      <td>0.782644</td>\n",
       "      <td>0.555555</td>\n",
       "      <td>0.911239</td>\n",
       "      <td>0.740585</td>\n",
       "      <td>0.420508</td>\n",
       "      <td>0.672003</td>\n",
       "    </tr>\n",
       "    <tr>\n",
       "      <th>min</th>\n",
       "      <td>1901.000000</td>\n",
       "      <td>22.000000</td>\n",
       "      <td>22.830000</td>\n",
       "      <td>26.680000</td>\n",
       "      <td>30.010000</td>\n",
       "      <td>31.930000</td>\n",
       "      <td>31.100000</td>\n",
       "      <td>29.760000</td>\n",
       "      <td>29.310000</td>\n",
       "      <td>29.070000</td>\n",
       "      <td>27.900000</td>\n",
       "      <td>25.700000</td>\n",
       "      <td>23.020000</td>\n",
       "      <td>28.110000</td>\n",
       "      <td>22.250000</td>\n",
       "      <td>29.920000</td>\n",
       "      <td>30.240000</td>\n",
       "      <td>25.740000</td>\n",
       "    </tr>\n",
       "    <tr>\n",
       "      <th>25%</th>\n",
       "      <td>1930.000000</td>\n",
       "      <td>23.100000</td>\n",
       "      <td>24.780000</td>\n",
       "      <td>28.370000</td>\n",
       "      <td>31.460000</td>\n",
       "      <td>33.110000</td>\n",
       "      <td>32.340000</td>\n",
       "      <td>30.740000</td>\n",
       "      <td>30.180000</td>\n",
       "      <td>30.120000</td>\n",
       "      <td>29.380000</td>\n",
       "      <td>26.790000</td>\n",
       "      <td>24.040000</td>\n",
       "      <td>28.760000</td>\n",
       "      <td>24.110000</td>\n",
       "      <td>31.040000</td>\n",
       "      <td>30.920000</td>\n",
       "      <td>26.700000</td>\n",
       "    </tr>\n",
       "    <tr>\n",
       "      <th>50%</th>\n",
       "      <td>1959.000000</td>\n",
       "      <td>23.680000</td>\n",
       "      <td>25.480000</td>\n",
       "      <td>29.040000</td>\n",
       "      <td>31.950000</td>\n",
       "      <td>33.510000</td>\n",
       "      <td>32.730000</td>\n",
       "      <td>31.000000</td>\n",
       "      <td>30.540000</td>\n",
       "      <td>30.520000</td>\n",
       "      <td>29.780000</td>\n",
       "      <td>27.300000</td>\n",
       "      <td>24.660000</td>\n",
       "      <td>29.090000</td>\n",
       "      <td>24.530000</td>\n",
       "      <td>31.470000</td>\n",
       "      <td>31.190000</td>\n",
       "      <td>27.210000</td>\n",
       "    </tr>\n",
       "    <tr>\n",
       "      <th>75%</th>\n",
       "      <td>1988.000000</td>\n",
       "      <td>24.180000</td>\n",
       "      <td>26.310000</td>\n",
       "      <td>29.610000</td>\n",
       "      <td>32.420000</td>\n",
       "      <td>34.030000</td>\n",
       "      <td>33.180000</td>\n",
       "      <td>31.330000</td>\n",
       "      <td>30.760000</td>\n",
       "      <td>30.810000</td>\n",
       "      <td>30.170000</td>\n",
       "      <td>27.720000</td>\n",
       "      <td>25.110000</td>\n",
       "      <td>29.470000</td>\n",
       "      <td>25.150000</td>\n",
       "      <td>31.890000</td>\n",
       "      <td>31.400000</td>\n",
       "      <td>27.610000</td>\n",
       "    </tr>\n",
       "    <tr>\n",
       "      <th>max</th>\n",
       "      <td>2017.000000</td>\n",
       "      <td>26.940000</td>\n",
       "      <td>29.720000</td>\n",
       "      <td>32.620000</td>\n",
       "      <td>35.380000</td>\n",
       "      <td>35.840000</td>\n",
       "      <td>34.480000</td>\n",
       "      <td>32.760000</td>\n",
       "      <td>31.840000</td>\n",
       "      <td>32.220000</td>\n",
       "      <td>32.290000</td>\n",
       "      <td>30.110000</td>\n",
       "      <td>28.010000</td>\n",
       "      <td>31.630000</td>\n",
       "      <td>28.330000</td>\n",
       "      <td>34.570000</td>\n",
       "      <td>32.410000</td>\n",
       "      <td>30.030000</td>\n",
       "    </tr>\n",
       "  </tbody>\n",
       "</table>\n",
       "</div>"
      ],
      "text/plain": [
       "              YEAR         JAN         FEB         MAR         APR  \\\n",
       "count   117.000000  117.000000  117.000000  117.000000  117.000000   \n",
       "mean   1959.000000   23.687436   25.597863   29.085983   31.975812   \n",
       "std      33.919021    0.834588    1.150757    1.068451    0.889478   \n",
       "min    1901.000000   22.000000   22.830000   26.680000   30.010000   \n",
       "25%    1930.000000   23.100000   24.780000   28.370000   31.460000   \n",
       "50%    1959.000000   23.680000   25.480000   29.040000   31.950000   \n",
       "75%    1988.000000   24.180000   26.310000   29.610000   32.420000   \n",
       "max    2017.000000   26.940000   29.720000   32.620000   35.380000   \n",
       "\n",
       "              MAY         JUN         JUL         AUG         SEP         OCT  \\\n",
       "count  117.000000  117.000000  117.000000  117.000000  117.000000  117.000000   \n",
       "mean    33.565299   32.774274   31.035897   30.507692   30.486752   29.766581   \n",
       "std      0.724905    0.633132    0.468818    0.476312    0.544295    0.705492   \n",
       "min     31.930000   31.100000   29.760000   29.310000   29.070000   27.900000   \n",
       "25%     33.110000   32.340000   30.740000   30.180000   30.120000   29.380000   \n",
       "50%     33.510000   32.730000   31.000000   30.540000   30.520000   29.780000   \n",
       "75%     34.030000   33.180000   31.330000   30.760000   30.810000   30.170000   \n",
       "max     35.840000   34.480000   32.760000   31.840000   32.220000   32.290000   \n",
       "\n",
       "              NOV         DEC      ANNUAL     JAN-FEB     MAR-MAY     JUN-SEP  \\\n",
       "count  117.000000  117.000000  117.000000  117.000000  117.000000  117.000000   \n",
       "mean    27.285470   24.608291   29.181368   24.629573   31.517607   31.198205   \n",
       "std      0.714518    0.782644    0.555555    0.911239    0.740585    0.420508   \n",
       "min     25.700000   23.020000   28.110000   22.250000   29.920000   30.240000   \n",
       "25%     26.790000   24.040000   28.760000   24.110000   31.040000   30.920000   \n",
       "50%     27.300000   24.660000   29.090000   24.530000   31.470000   31.190000   \n",
       "75%     27.720000   25.110000   29.470000   25.150000   31.890000   31.400000   \n",
       "max     30.110000   28.010000   31.630000   28.330000   34.570000   32.410000   \n",
       "\n",
       "          OCT-DEC  \n",
       "count  117.000000  \n",
       "mean    27.208120  \n",
       "std      0.672003  \n",
       "min     25.740000  \n",
       "25%     26.700000  \n",
       "50%     27.210000  \n",
       "75%     27.610000  \n",
       "max     30.030000  "
      ]
     },
     "execution_count": 4,
     "metadata": {},
     "output_type": "execute_result"
    }
   ],
   "source": [
    "data.describe()"
   ]
  },
  {
   "cell_type": "markdown",
   "id": "3765d5b4",
   "metadata": {},
   "source": [
    "### A)Creating First Model For January"
   ]
  },
  {
   "cell_type": "code",
   "execution_count": 5,
   "id": "0e67dcb2",
   "metadata": {},
   "outputs": [],
   "source": [
    "X=data[['YEAR']]  #independent variable\n",
    "Y=data[['JAN'] ]  #dependent variable"
   ]
  },
  {
   "cell_type": "code",
   "execution_count": 6,
   "id": "51546b63",
   "metadata": {},
   "outputs": [
    {
     "data": {
      "text/plain": [
       "(117, 1)"
      ]
     },
     "execution_count": 6,
     "metadata": {},
     "output_type": "execute_result"
    }
   ],
   "source": [
    "X.shape"
   ]
  },
  {
   "cell_type": "code",
   "execution_count": 7,
   "id": "22228711",
   "metadata": {},
   "outputs": [
    {
     "data": {
      "text/plain": [
       "(117, 1)"
      ]
     },
     "execution_count": 7,
     "metadata": {},
     "output_type": "execute_result"
    }
   ],
   "source": [
    "Y.shape"
   ]
  },
  {
   "cell_type": "code",
   "execution_count": 8,
   "id": "141133fd",
   "metadata": {},
   "outputs": [],
   "source": [
    "from sklearn.model_selection import train_test_split"
   ]
  },
  {
   "cell_type": "code",
   "execution_count": 9,
   "id": "c514e59c",
   "metadata": {},
   "outputs": [],
   "source": [
    "X_train,X_test,Y_train,Y_test = train_test_split(X,Y,test_size=0.4,random_state=42)"
   ]
  },
  {
   "cell_type": "code",
   "execution_count": 10,
   "id": "353e6889",
   "metadata": {},
   "outputs": [
    {
     "data": {
      "text/plain": [
       "(70, 1)"
      ]
     },
     "execution_count": 10,
     "metadata": {},
     "output_type": "execute_result"
    }
   ],
   "source": [
    "X_train.shape"
   ]
  },
  {
   "cell_type": "code",
   "execution_count": 11,
   "id": "679279ce",
   "metadata": {},
   "outputs": [
    {
     "data": {
      "text/plain": [
       "(47, 1)"
      ]
     },
     "execution_count": 11,
     "metadata": {},
     "output_type": "execute_result"
    }
   ],
   "source": [
    "\n",
    "X_test.shape"
   ]
  },
  {
   "cell_type": "code",
   "execution_count": 12,
   "id": "13e8e55d",
   "metadata": {},
   "outputs": [
    {
     "data": {
      "text/plain": [
       "(70, 1)"
      ]
     },
     "execution_count": 12,
     "metadata": {},
     "output_type": "execute_result"
    }
   ],
   "source": [
    "Y_train.shape"
   ]
  },
  {
   "cell_type": "code",
   "execution_count": 13,
   "id": "d37852da",
   "metadata": {},
   "outputs": [
    {
     "data": {
      "text/plain": [
       "(47, 1)"
      ]
     },
     "execution_count": 13,
     "metadata": {},
     "output_type": "execute_result"
    }
   ],
   "source": [
    "Y_test.shape"
   ]
  },
  {
   "cell_type": "markdown",
   "id": "13358131",
   "metadata": {},
   "source": [
    "### 6) To create Linear model"
   ]
  },
  {
   "cell_type": "code",
   "execution_count": 14,
   "id": "97de9412",
   "metadata": {},
   "outputs": [],
   "source": [
    "from sklearn import linear_model\n",
    "reg=linear_model.LinearRegression()"
   ]
  },
  {
   "cell_type": "code",
   "execution_count": 15,
   "id": "0ba78784",
   "metadata": {},
   "outputs": [],
   "source": [
    "model=reg.fit(X_train,Y_train)"
   ]
  },
  {
   "cell_type": "code",
   "execution_count": 16,
   "id": "69900eab",
   "metadata": {},
   "outputs": [
    {
     "name": "stdout",
     "output_type": "stream",
     "text": [
      "[-2.20368335]\n",
      "[[0.01322596]]\n"
     ]
    }
   ],
   "source": [
    "print(model.intercept_)\n",
    "print(model.coef_)"
   ]
  },
  {
   "cell_type": "markdown",
   "id": "edfd7a6e",
   "metadata": {},
   "source": [
    "### 7) predictions of data"
   ]
  },
  {
   "cell_type": "code",
   "execution_count": 17,
   "id": "97a0b511",
   "metadata": {},
   "outputs": [],
   "source": [
    "Ypred=model.predict(X_test)"
   ]
  },
  {
   "cell_type": "code",
   "execution_count": 18,
   "id": "25679585",
   "metadata": {},
   "outputs": [
    {
     "name": "stdout",
     "output_type": "stream",
     "text": [
      "Pridected Data - [[23.52080398]\n",
      " [22.99176568]\n",
      " [23.6398376 ]\n",
      " [23.49435207]\n",
      " [23.07112143]\n",
      " [24.06306824]\n",
      " [23.89113079]\n",
      " [24.18210186]\n",
      " [23.41499632]\n",
      " [23.08434738]\n",
      " [23.46790015]\n",
      " [23.28273675]\n",
      " [24.19532781]\n",
      " [24.31436143]\n",
      " [23.17692909]\n",
      " [22.93886185]\n",
      " [23.75887122]\n",
      " [24.42016909]\n",
      " [23.94403462]\n",
      " [24.27468356]\n",
      " [23.83822696]\n",
      " [24.11597207]\n",
      " [24.45984696]\n",
      " [23.09757334]\n",
      " [23.13725121]\n",
      " [23.85145292]\n",
      " [23.34886653]\n",
      " [23.25628483]\n",
      " [23.67951547]\n",
      " [23.22983292]\n",
      " [24.40694313]\n",
      " [23.79854909]\n",
      " [23.99693845]\n",
      " [23.33564058]\n",
      " [23.90435675]\n",
      " [23.56048185]\n",
      " [23.05789547]\n",
      " [23.37531845]\n",
      " [24.39371718]\n",
      " [23.825001  ]\n",
      " [23.30918866]\n",
      " [23.53402994]\n",
      " [24.03661632]\n",
      " [23.00499164]\n",
      " [24.04984228]\n",
      " [23.81177505]\n",
      " [23.45467419]]\n"
     ]
    }
   ],
   "source": [
    "print(\"Pridected Data -\",Ypred)\n"
   ]
  },
  {
   "cell_type": "markdown",
   "id": "6747e6aa",
   "metadata": {},
   "source": [
    "### 8) check the performance measures for january"
   ]
  },
  {
   "cell_type": "code",
   "execution_count": 19,
   "id": "b872fe7d",
   "metadata": {},
   "outputs": [],
   "source": [
    "from sklearn.metrics import mean_absolute_error,mean_squared_error,r2_score\n",
    "mse = mean_squared_error(Y_test,Ypred)\n",
    "rmse = np.sqrt(mse)\n",
    "mae = mean_absolute_error(Y_test,Ypred)\n",
    "r2 = r2_score(Y_test,Ypred)\n",
    "ar2 = 1-(1-r2) * (len(Y)-1) / (len(Y)-1-1)"
   ]
  },
  {
   "cell_type": "code",
   "execution_count": 20,
   "id": "bc20eebf",
   "metadata": {},
   "outputs": [
    {
     "name": "stdout",
     "output_type": "stream",
     "text": [
      "Mean squared error:  0.4656135782543516\n",
      "Root Mean Square error:  0.682358833938824\n",
      "Mean Absolute error:  0.5154323928078343\n",
      "R2:  0.3572548088301144\n",
      "Adjusted  R2:  0.35166572021124587\n"
     ]
    }
   ],
   "source": [
    "print('Mean squared error: ',mse)\n",
    "print('Root Mean Square error: ',rmse)\n",
    "print('Mean Absolute error: ',mae)\n",
    "print('R2: ',r2)\n",
    "print('Adjusted  R2: ',ar2)"
   ]
  },
  {
   "cell_type": "markdown",
   "id": "7f81170f",
   "metadata": {},
   "source": [
    "### 9) visualize the data using graph for january"
   ]
  },
  {
   "cell_type": "code",
   "execution_count": 21,
   "id": "963ad3e7",
   "metadata": {
    "scrolled": true
   },
   "outputs": [
    {
     "data": {
      "text/plain": [
       "<matplotlib.collections.PathCollection at 0x2abb3001660>"
      ]
     },
     "execution_count": 21,
     "metadata": {},
     "output_type": "execute_result"
    },
    {
     "data": {
      "image/png": "[encoded data removed]",
      "text/plain": [
       "<Figure size 1000x700 with 1 Axes>"
      ]
     },
     "metadata": {},
     "output_type": "display_data"
    }
   ],
   "source": [
    "import matplotlib.pyplot as plt\n",
    "plt.figure(figsize=(10,7))\n",
    "plt.title(' Year vs Temperature')\n",
    "plt.xlabel('YEAR')\n",
    "plt.ylabel('Temperature')\n",
    "plt.plot(X_train,reg.predict(X_train),color='red')\n",
    "plt.scatter(X_train,Y_train,color='blue')"
   ]
  },
  {
   "cell_type": "markdown",
   "id": "60c88a91",
   "metadata": {},
   "source": [
    "### B) Create Second  Model for  february"
   ]
  },
  {
   "cell_type": "code",
   "execution_count": 22,
   "id": "23d2e626",
   "metadata": {},
   "outputs": [],
   "source": [
    "X2=data[['YEAR']]\n",
    "Y2=data[['FEB']]"
   ]
  },
  {
   "cell_type": "code",
   "execution_count": 23,
   "id": "3749501a",
   "metadata": {},
   "outputs": [],
   "source": [
    "from sklearn.model_selection import train_test_split"
   ]
  },
  {
   "cell_type": "code",
   "execution_count": 24,
   "id": "7b7dfc23",
   "metadata": {},
   "outputs": [],
   "source": [
    "X2train,X2test,Y2train,Y2test = train_test_split(X2,Y2,test_size=0.2,random_state=42)"
   ]
  },
  {
   "cell_type": "code",
   "execution_count": 25,
   "id": "15b8ea58",
   "metadata": {},
   "outputs": [
    {
     "name": "stdout",
     "output_type": "stream",
     "text": [
      "X2train: (93, 1)\n",
      "X2test: (24, 1)\n",
      "Y2train: (93, 1)\n",
      "Y2train: (93, 1)\n"
     ]
    }
   ],
   "source": [
    "print('X2train:',X2train.shape)\n",
    "print('X2test:',X2test.shape)\n",
    "print('Y2train:',Y2train.shape)\n",
    "print('Y2train:',Y2train.shape)"
   ]
  },
  {
   "cell_type": "markdown",
   "id": "9ff846b5",
   "metadata": {},
   "source": [
    "### 10) model for feb"
   ]
  },
  {
   "cell_type": "code",
   "execution_count": 26,
   "id": "90264310",
   "metadata": {},
   "outputs": [],
   "source": [
    "reg2=linear_model.LinearRegression()"
   ]
  },
  {
   "cell_type": "code",
   "execution_count": 27,
   "id": "5917191e",
   "metadata": {},
   "outputs": [],
   "source": [
    "model2=reg2.fit(X2train,Y2train)"
   ]
  },
  {
   "cell_type": "code",
   "execution_count": 28,
   "id": "add2bcef",
   "metadata": {},
   "outputs": [
    {
     "name": "stdout",
     "output_type": "stream",
     "text": [
      "[-13.58945479]\n",
      "[[0.01998518]]\n"
     ]
    }
   ],
   "source": [
    "print(model2.intercept_)\n",
    "print(model2.coef_)"
   ]
  },
  {
   "cell_type": "markdown",
   "id": "24f16dbd",
   "metadata": {},
   "source": [
    "### predictions for feb"
   ]
  },
  {
   "cell_type": "code",
   "execution_count": 29,
   "id": "b3386c61",
   "metadata": {},
   "outputs": [],
   "source": [
    "Y2pred=model2.predict(X2test)"
   ]
  },
  {
   "cell_type": "code",
   "execution_count": 30,
   "id": "4f116ff6",
   "metadata": {},
   "outputs": [
    {
     "data": {
      "text/plain": [
       "array([[23.52080398],\n",
       "       [22.99176568],\n",
       "       [23.6398376 ],\n",
       "       [23.49435207],\n",
       "       [23.07112143],\n",
       "       [24.06306824],\n",
       "       [23.89113079],\n",
       "       [24.18210186],\n",
       "       [23.41499632],\n",
       "       [23.08434738],\n",
       "       [23.46790015],\n",
       "       [23.28273675],\n",
       "       [24.19532781],\n",
       "       [24.31436143],\n",
       "       [23.17692909],\n",
       "       [22.93886185],\n",
       "       [23.75887122],\n",
       "       [24.42016909],\n",
       "       [23.94403462],\n",
       "       [24.27468356],\n",
       "       [23.83822696],\n",
       "       [24.11597207],\n",
       "       [24.45984696],\n",
       "       [23.09757334],\n",
       "       [23.13725121],\n",
       "       [23.85145292],\n",
       "       [23.34886653],\n",
       "       [23.25628483],\n",
       "       [23.67951547],\n",
       "       [23.22983292],\n",
       "       [24.40694313],\n",
       "       [23.79854909],\n",
       "       [23.99693845],\n",
       "       [23.33564058],\n",
       "       [23.90435675],\n",
       "       [23.56048185],\n",
       "       [23.05789547],\n",
       "       [23.37531845],\n",
       "       [24.39371718],\n",
       "       [23.825001  ],\n",
       "       [23.30918866],\n",
       "       [23.53402994],\n",
       "       [24.03661632],\n",
       "       [23.00499164],\n",
       "       [24.04984228],\n",
       "       [23.81177505],\n",
       "       [23.45467419]])"
      ]
     },
     "execution_count": 30,
     "metadata": {},
     "output_type": "execute_result"
    }
   ],
   "source": [
    "Ypred"
   ]
  },
  {
   "cell_type": "markdown",
   "id": "6a09b788",
   "metadata": {},
   "source": [
    "### 11) Performace for Feb"
   ]
  },
  {
   "cell_type": "code",
   "execution_count": 31,
   "id": "a077153b",
   "metadata": {},
   "outputs": [],
   "source": [
    "from sklearn.metrics import mean_absolute_error,mean_squared_error,r2_score\n",
    "mse = mean_squared_error(Y2test,Y2pred)\n",
    "rmse = np.sqrt(mse)\n",
    "mae = mean_absolute_error(Y2test,Y2pred)\n",
    "r2 = r2_score(Y2test,Y2pred)\n",
    "ar2 = 1-(1-r2) * (len(Y2)-1) / (len(Y2)-1-1)"
   ]
  },
  {
   "cell_type": "code",
   "execution_count": 32,
   "id": "0ea08211",
   "metadata": {},
   "outputs": [
    {
     "name": "stdout",
     "output_type": "stream",
     "text": [
      "Mean squared error:  0.8244076743119072\n",
      "Root Mean Square error:  0.9079689831221699\n",
      "Mean Absolute error:  0.6321543551026766\n",
      "R2:  0.5337774396814265\n",
      "Adjusted  R2:  0.529723330461265\n"
     ]
    }
   ],
   "source": [
    "print('Mean squared error: ',mse)\n",
    "print('Root Mean Square error: ',rmse)\n",
    "print('Mean Absolute error: ',mae)\n",
    "print('R2: ',r2)\n",
    "print('Adjusted  R2: ',ar2)"
   ]
  },
  {
   "cell_type": "markdown",
   "id": "bc9b330f",
   "metadata": {},
   "source": [
    "### 12) visualised data for Feb"
   ]
  },
  {
   "cell_type": "code",
   "execution_count": 33,
   "id": "8137e072",
   "metadata": {},
   "outputs": [
    {
     "data": {
      "text/plain": [
       "<matplotlib.collections.PathCollection at 0x2abb5803e50>"
      ]
     },
     "execution_count": 33,
     "metadata": {},
     "output_type": "execute_result"
    },
    {
     "data": {
      "image/png": "[encoded data removed]",
      "text/plain": [
       "<Figure size 1000x700 with 1 Axes>"
      ]
     },
     "metadata": {},
     "output_type": "display_data"
    }
   ],
   "source": [
    "import matplotlib.pyplot as plt\n",
    "plt.figure(figsize=(10,7))\n",
    "plt.title(' Year vs Temperature')\n",
    "plt.xlabel('YEAR')\n",
    "plt.ylabel('Temperature')\n",
    "plt.plot(X2train,reg2.predict(X2train),color='green')\n",
    "plt.scatter(X2train,Y2train,color='black')"
   ]
  },
  {
   "cell_type": "markdown",
   "id": "010125a2",
   "metadata": {},
   "source": [
    "### C)Creating  Third Model For March"
   ]
  },
  {
   "cell_type": "code",
   "execution_count": 34,
   "id": "f7138d94",
   "metadata": {},
   "outputs": [],
   "source": [
    "X3=data[['YEAR']]\n",
    "Y3=data[['MAR']]"
   ]
  },
  {
   "cell_type": "code",
   "execution_count": 35,
   "id": "9221d817",
   "metadata": {},
   "outputs": [
    {
     "name": "stdout",
     "output_type": "stream",
     "text": [
      "X3train: (81, 1)\n",
      "X3test: (36, 1)\n",
      "Y3train (81, 1)\n",
      "Y3test: (36, 1)\n"
     ]
    }
   ],
   "source": [
    "from sklearn.model_selection import train_test_split\n",
    "X3train,X3test,Y3train,Y3test = train_test_split(X3,Y3,test_size=0.3,random_state=42)\n",
    "print('X3train:' ,X3train.shape)\n",
    "print('X3test:',X3test.shape)\n",
    "print('Y3train',Y3train.shape)\n",
    "print('Y3test:',Y3test.shape)"
   ]
  },
  {
   "cell_type": "markdown",
   "id": "8e87a176",
   "metadata": {},
   "source": [
    "### model for march"
   ]
  },
  {
   "cell_type": "code",
   "execution_count": 36,
   "id": "e2e31022",
   "metadata": {},
   "outputs": [
    {
     "name": "stdout",
     "output_type": "stream",
     "text": [
      "[-1.24242607]\n",
      "[[0.01544422]]\n"
     ]
    }
   ],
   "source": [
    "\n",
    "reg3=linear_model.LinearRegression()\n",
    "model3=reg3.fit(X3train,Y3train)\n",
    "print(model3.intercept_)\n",
    "print(model3.coef_)"
   ]
  },
  {
   "cell_type": "markdown",
   "id": "6c292427",
   "metadata": {},
   "source": [
    "### prediction for march"
   ]
  },
  {
   "cell_type": "code",
   "execution_count": 37,
   "id": "40565bb4",
   "metadata": {},
   "outputs": [
    {
     "name": "stdout",
     "output_type": "stream",
     "text": [
      "Predictions: [[28.79658772]\n",
      " [28.1788188 ]\n",
      " [28.93558573]\n",
      " [28.76569928]\n",
      " [28.27148414]\n",
      " [29.42980087]\n",
      " [29.22902597]\n",
      " [29.56879888]\n",
      " [28.67303394]\n",
      " [28.28692836]\n",
      " [28.73481083]\n",
      " [28.51859171]\n",
      " [29.5842431 ]\n",
      " [29.72324111]\n",
      " [28.39503793]\n",
      " [28.11704191]\n",
      " [29.07458374]\n",
      " [29.84679489]\n",
      " [29.29080286]\n",
      " [29.67690844]\n",
      " [29.16724908]\n",
      " [29.49157776]\n",
      " [29.89312756]\n",
      " [28.30237259]\n",
      " [28.34870526]\n",
      " [29.1826933 ]\n",
      " [28.59581282]\n",
      " [28.48770326]\n",
      " [28.9819184 ]\n",
      " [28.45681482]\n",
      " [29.83135067]\n",
      " [29.12091641]\n",
      " [29.35257975]\n",
      " [28.5803686 ]\n",
      " [29.24447019]\n",
      " [28.84292039]]\n"
     ]
    }
   ],
   "source": [
    "Y3pred=model3.predict(X3test)\n",
    "print('Predictions:',Y3pred)"
   ]
  },
  {
   "cell_type": "markdown",
   "id": "3fabd982",
   "metadata": {},
   "source": [
    "### performance for march "
   ]
  },
  {
   "cell_type": "code",
   "execution_count": 38,
   "id": "66f14113",
   "metadata": {},
   "outputs": [],
   "source": [
    "from sklearn.metrics import mean_absolute_error,mean_squared_error,r2_score\n",
    "mse = mean_squared_error(Y3test,Y3pred)\n",
    "rmse = np.sqrt(mse)\n",
    "mae = mean_absolute_error(Y3test,Y3pred)\n",
    "r2 = r2_score(Y3test,Y3pred)\n",
    "ar2 = 1-(1-r2) * (len(Y3)-1) / (len(Y3)-1-1)"
   ]
  },
  {
   "cell_type": "code",
   "execution_count": 39,
   "id": "6a72af4e",
   "metadata": {},
   "outputs": [
    {
     "name": "stdout",
     "output_type": "stream",
     "text": [
      "Mean squared error:  0.8715338801748705\n",
      "Root Mean Square error:  0.933559789287687\n",
      "Mean Absolute error:  0.7324675537397618\n",
      "R2:  0.3484615096559506\n",
      "Adjusted  R2:  0.34279595756600234\n"
     ]
    }
   ],
   "source": [
    "print('Mean squared error: ',mse)\n",
    "print('Root Mean Square error: ',rmse)\n",
    "print('Mean Absolute error: ',mae)\n",
    "print('R2: ',r2)\n",
    "print('Adjusted  R2: ',ar2)"
   ]
  },
  {
   "cell_type": "markdown",
   "id": "1989bf2d",
   "metadata": {},
   "source": [
    "### visualisation for march"
   ]
  },
  {
   "cell_type": "code",
   "execution_count": 40,
   "id": "6179bc52",
   "metadata": {},
   "outputs": [
    {
     "data": {
      "text/plain": [
       "<matplotlib.collections.PathCollection at 0x2abb585e620>"
      ]
     },
     "execution_count": 40,
     "metadata": {},
     "output_type": "execute_result"
    },
    {
     "data": {
      "image/png": "[encoded data removed]",
      "text/plain": [
       "<Figure size 1000x700 with 1 Axes>"
      ]
     },
     "metadata": {},
     "output_type": "display_data"
    }
   ],
   "source": [
    "import matplotlib.pyplot as plt\n",
    "plt.figure(figsize=(10,7))\n",
    "plt.title(' Year vs Temperature')\n",
    "plt.xlabel('YEAR')\n",
    "plt.ylabel('Temperature')\n",
    "plt.plot(X3train,reg3.predict(X3train),color='purple')\n",
    "plt.scatter(X3train,Y3train,color='green')"
   ]
  },
  {
   "cell_type": "markdown",
   "id": "c699e6a5",
   "metadata": {},
   "source": [
    "### D)Creating Model For April"
   ]
  },
  {
   "cell_type": "code",
   "execution_count": 41,
   "id": "4c0c07d2",
   "metadata": {},
   "outputs": [],
   "source": [
    "X4=data[['YEAR']]\n",
    "Y4=data[['APR']]"
   ]
  },
  {
   "cell_type": "code",
   "execution_count": 42,
   "id": "33b08f31",
   "metadata": {},
   "outputs": [
    {
     "name": "stdout",
     "output_type": "stream",
     "text": [
      "X4train: (76, 1)\n",
      "X4test: (41, 1)\n",
      "Y4train (76, 1)\n",
      "Y4test: (41, 1)\n"
     ]
    }
   ],
   "source": [
    "from sklearn.model_selection import train_test_split\n",
    "X4train,X4test,Y4train,Y4test = train_test_split(X4,Y4,test_size=0.35,random_state=42)\n",
    "print('X4train:' ,X4train.shape)\n",
    "print('X4test:',X4test.shape)\n",
    "print('Y4train',Y4train.shape)\n",
    "print('Y4test:',Y4test.shape)"
   ]
  },
  {
   "cell_type": "markdown",
   "id": "97f8b5b3",
   "metadata": {},
   "source": [
    "### model for april"
   ]
  },
  {
   "cell_type": "code",
   "execution_count": 43,
   "id": "18da72a8",
   "metadata": {},
   "outputs": [
    {
     "name": "stdout",
     "output_type": "stream",
     "text": [
      "[2.81232992]\n",
      "[[0.01485497]]\n"
     ]
    }
   ],
   "source": [
    "\n",
    "reg4=linear_model.LinearRegression()\n",
    "model4=reg4.fit(X4train,Y4train)\n",
    "print(model4.intercept_)\n",
    "print(model4.coef_)"
   ]
  },
  {
   "cell_type": "markdown",
   "id": "ba3e76f4",
   "metadata": {},
   "source": [
    "### prediction for april"
   ]
  },
  {
   "cell_type": "code",
   "execution_count": 44,
   "id": "e6095830",
   "metadata": {},
   "outputs": [
    {
     "name": "stdout",
     "output_type": "stream",
     "text": [
      "Predictions: [[31.70525612]\n",
      " [31.11105712]\n",
      " [31.8389509 ]\n",
      " [31.67554617]\n",
      " [31.20018697]\n",
      " [32.31431009]\n",
      " [32.12119542]\n",
      " [32.44800487]\n",
      " [31.58641632]\n",
      " [31.21504195]\n",
      " [31.64583622]\n",
      " [31.43786657]\n",
      " [32.46285984]\n",
      " [32.59655462]\n",
      " [31.31902677]\n",
      " [31.05163722]\n",
      " [31.97264567]\n",
      " [32.71539441]\n",
      " [32.18061532]\n",
      " [32.55198969]\n",
      " [32.06177552]\n",
      " [32.37372999]\n",
      " [32.75995934]\n",
      " [31.22989692]\n",
      " [31.27446185]\n",
      " [32.07663049]\n",
      " [31.51214145]\n",
      " [31.40815662]\n",
      " [31.88351582]\n",
      " [31.37844667]\n",
      " [32.70053944]\n",
      " [32.01721059]\n",
      " [32.24003522]\n",
      " [31.49728647]\n",
      " [32.13605039]\n",
      " [31.74982105]\n",
      " [31.185332  ]\n",
      " [31.5418514 ]\n",
      " [32.68568447]\n",
      " [32.04692054]\n",
      " [31.46757652]]\n"
     ]
    }
   ],
   "source": [
    "Y4pred=model4.predict(X4test)\n",
    "print('Predictions:',Y4pred)"
   ]
  },
  {
   "cell_type": "markdown",
   "id": "32f3c934",
   "metadata": {},
   "source": [
    "### performance for April"
   ]
  },
  {
   "cell_type": "code",
   "execution_count": 45,
   "id": "283e016c",
   "metadata": {},
   "outputs": [],
   "source": [
    "from sklearn.metrics import mean_absolute_error,mean_squared_error,r2_score\n",
    "mse = mean_squared_error(Y4test,Y4pred)\n",
    "rmse = np.sqrt(mse)\n",
    "mae = mean_absolute_error(Y4test,Y4pred)\n",
    "r2 = r2_score(Y4test,Y4pred)\n",
    "ar2 = 1-(1-r2) * (len(Y4)-1) / (len(Y4)-1-1)"
   ]
  },
  {
   "cell_type": "code",
   "execution_count": 46,
   "id": "f51dba44",
   "metadata": {},
   "outputs": [
    {
     "name": "stdout",
     "output_type": "stream",
     "text": [
      "Mean squared error:  0.6245148596643103\n",
      "Root Mean Square error:  0.7902625257876716\n",
      "Mean Absolute error:  0.6170511718667568\n",
      "R2:  0.22173658734967416\n",
      "Adjusted  R2:  0.21496907941358434\n"
     ]
    }
   ],
   "source": [
    "print('Mean squared error: ',mse)\n",
    "print('Root Mean Square error: ',rmse)\n",
    "print('Mean Absolute error: ',mae)\n",
    "print('R2: ',r2)\n",
    "print('Adjusted  R2: ',ar2)"
   ]
  },
  {
   "cell_type": "markdown",
   "id": "b72985e0",
   "metadata": {},
   "source": [
    "### visualisation for april"
   ]
  },
  {
   "cell_type": "code",
   "execution_count": 47,
   "id": "16cbb1e1",
   "metadata": {},
   "outputs": [
    {
     "data": {
      "text/plain": [
       "<matplotlib.collections.PathCollection at 0x2abb30d3c70>"
      ]
     },
     "execution_count": 47,
     "metadata": {},
     "output_type": "execute_result"
    },
    {
     "data": {
      "image/png": "[encoded data removed]",
      "text/plain": [
       "<Figure size 1000x700 with 1 Axes>"
      ]
     },
     "metadata": {},
     "output_type": "display_data"
    }
   ],
   "source": [
    "import matplotlib.pyplot as plt\n",
    "plt.figure(figsize=(10,7))\n",
    "plt.title(' Year vs Temperature')\n",
    "plt.xlabel('YEAR')\n",
    "plt.ylabel('Temperature')\n",
    "plt.plot(X4train,reg4.predict(X4train),color='blue')\n",
    "plt.scatter(X4train,Y4train,color='brown')"
   ]
  },
  {
   "cell_type": "markdown",
   "id": "cc756720",
   "metadata": {},
   "source": [
    "### E)Creating Model for September"
   ]
  },
  {
   "cell_type": "code",
   "execution_count": 48,
   "id": "94dd861f",
   "metadata": {},
   "outputs": [],
   "source": [
    "X5=data[['YEAR']]\n",
    "Y5=data[['SEP']]"
   ]
  },
  {
   "cell_type": "code",
   "execution_count": 49,
   "id": "e5d288af",
   "metadata": {},
   "outputs": [
    {
     "name": "stdout",
     "output_type": "stream",
     "text": [
      "X5train: (58, 1)\n",
      "X5test: (59, 1)\n",
      "Y5train (58, 1)\n",
      "Y5test: (59, 1)\n"
     ]
    }
   ],
   "source": [
    "from sklearn.model_selection import train_test_split\n",
    "X5train,X5test,Y5train,Y5test = train_test_split(X5,Y5,test_size=0.5,random_state=42)\n",
    "print('X5train:' ,X5train.shape)\n",
    "print('X5test:',X5test.shape)\n",
    "print('Y5train',Y5train.shape)\n",
    "print('Y5test:',Y5test.shape)"
   ]
  },
  {
   "cell_type": "markdown",
   "id": "1def7fd3",
   "metadata": {},
   "source": [
    "### model for september"
   ]
  },
  {
   "cell_type": "code",
   "execution_count": 50,
   "id": "c466bccd",
   "metadata": {},
   "outputs": [
    {
     "name": "stdout",
     "output_type": "stream",
     "text": [
      "[6.88255068]\n",
      "[[0.01201699]]\n"
     ]
    }
   ],
   "source": [
    "\n",
    "reg5=linear_model.LinearRegression()\n",
    "model5=reg5.fit(X5train,Y5train)\n",
    "print(model5.intercept_)\n",
    "print(model5.coef_)"
   ]
  },
  {
   "cell_type": "markdown",
   "id": "f980bee8",
   "metadata": {},
   "source": [
    "### prediction for September"
   ]
  },
  {
   "cell_type": "code",
   "execution_count": 51,
   "id": "9dc7a7e7",
   "metadata": {},
   "outputs": [
    {
     "name": "stdout",
     "output_type": "stream",
     "text": [
      "Predictions: [[30.25559911]\n",
      " [29.77491946]\n",
      " [30.36375204]\n",
      " [30.23156513]\n",
      " [29.8470214 ]\n",
      " [30.74829577]\n",
      " [30.59207488]\n",
      " [30.85644869]\n",
      " [30.15946318]\n",
      " [29.8590384 ]\n",
      " [30.20753115]\n",
      " [30.03929327]\n",
      " [30.86846568]\n",
      " [30.9766186 ]\n",
      " [29.94315734]\n",
      " [29.72685149]\n",
      " [30.47190496]\n",
      " [31.07275454]\n",
      " [30.64014284]\n",
      " [30.94056763]\n",
      " [30.54400691]\n",
      " [30.79636373]\n",
      " [31.10880551]\n",
      " [29.87105539]\n",
      " [29.90710636]\n",
      " [30.5560239 ]\n",
      " [30.09937823]\n",
      " [30.01525928]\n",
      " [30.39980301]\n",
      " [29.9912253 ]\n",
      " [31.06073754]\n",
      " [30.50795594]\n",
      " [30.68821081]\n",
      " [30.08736123]\n",
      " [30.60409187]\n",
      " [30.29165009]\n",
      " [29.83500441]\n",
      " [30.12341221]\n",
      " [31.04872055]\n",
      " [30.53198992]\n",
      " [30.06332725]\n",
      " [30.26761611]\n",
      " [30.72426178]\n",
      " [29.78693645]\n",
      " [30.73627877]\n",
      " [30.51997293]\n",
      " [30.19551416]\n",
      " [30.14744619]\n",
      " [29.91912335]\n",
      " [30.49593894]\n",
      " [30.1354292 ]\n",
      " [30.38778602]\n",
      " [29.81097043]\n",
      " [30.24358212]\n",
      " [30.56804089]\n",
      " [30.65215983]\n",
      " [30.05131026]\n",
      " [29.95517433]\n",
      " [30.8444317 ]]\n"
     ]
    }
   ],
   "source": [
    "Y5pred=model5.predict(X5test)\n",
    "print('Predictions:',Y5pred)"
   ]
  },
  {
   "cell_type": "markdown",
   "id": "52ff8bda",
   "metadata": {},
   "source": [
    "### performance for september"
   ]
  },
  {
   "cell_type": "code",
   "execution_count": 52,
   "id": "b1842159",
   "metadata": {},
   "outputs": [],
   "source": [
    "from sklearn.metrics import mean_absolute_error,mean_squared_error,r2_score\n",
    "mse = mean_squared_error(Y5test,Y5pred)\n",
    "rmse = np.sqrt(mse)\n",
    "mae = mean_absolute_error(Y5test,Y5pred)\n",
    "r2 = r2_score(Y5test,Y5pred)\n",
    "ar2 = 1-(1-r2) * (len(Y5)-1) / (len(Y5)-1-1)"
   ]
  },
  {
   "cell_type": "code",
   "execution_count": 53,
   "id": "1c712a74",
   "metadata": {},
   "outputs": [
    {
     "name": "stdout",
     "output_type": "stream",
     "text": [
      "Mean squared error:  0.12515074764288886\n",
      "Root Mean Square error:  0.353766515717484\n",
      "Mean Absolute error:  0.2701145804587762\n",
      "R2:  0.37930065524331846\n",
      "Adjusted  R2:  0.3739032696367386\n"
     ]
    }
   ],
   "source": [
    "print('Mean squared error: ',mse)\n",
    "print('Root Mean Square error: ',rmse)\n",
    "print('Mean Absolute error: ',mae)\n",
    "print('R2: ',r2)\n",
    "print('Adjusted  R2: ',ar2)"
   ]
  },
  {
   "cell_type": "markdown",
   "id": "62bc69ed",
   "metadata": {},
   "source": [
    "### visualisation for september"
   ]
  },
  {
   "cell_type": "code",
   "execution_count": 54,
   "id": "31533621",
   "metadata": {},
   "outputs": [
    {
     "data": {
      "text/plain": [
       "<matplotlib.collections.PathCollection at 0x2abb317a0b0>"
      ]
     },
     "execution_count": 54,
     "metadata": {},
     "output_type": "execute_result"
    },
    {
     "data": {
      "image/png": "[encoded data removed]",
      "text/plain": [
       "<Figure size 1000x700 with 1 Axes>"
      ]
     },
     "metadata": {},
     "output_type": "display_data"
    }
   ],
   "source": [
    "import matplotlib.pyplot as plt\n",
    "plt.figure(figsize=(10,7))\n",
    "plt.title(' Year vs Temperature')\n",
    "plt.xlabel('YEAR')\n",
    "plt.ylabel('Temperature')\n",
    "plt.plot(X5train,reg5.predict(X5train),color='blue')\n",
    "plt.scatter(X5train,Y5train,color='red')"
   ]
  },
  {
   "cell_type": "code",
   "execution_count": null,
   "id": "f2a4415f",
   "metadata": {},
   "outputs": [],
   "source": []
  }
 ],
 "metadata": {
  "kernelspec": {
   "display_name": "Python 3 (ipykernel)",
   "language": "python",
   "name": "python3"
  },
  "language_info": {
   "codemirror_mode": {
    "name": "ipython",
    "version": 3
   },
   "file_extension": ".py",
   "mimetype": "text/x-python",
   "name": "python",
   "nbconvert_exporter": "python",
   "pygments_lexer": "ipython3",
   "version": "3.10.7"
  }
 },
 "nbformat": 4,
 "nbformat_minor": 5
}
